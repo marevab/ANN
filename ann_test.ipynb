{
 "cells": [
  {
   "cell_type": "markdown",
   "metadata": {},
   "source": [
    "# Homemade implementation of a neural network\n",
    "- build a neural network with several hidden layers of different sizes\n",
    "- training phase with feedforward and backpropagation steps\n",
    "- testing phase"
   ]
  },
  {
   "cell_type": "code",
   "execution_count": 17,
   "metadata": {
    "collapsed": false
   },
   "outputs": [],
   "source": [
    "%matplotlib inline\n",
    "\n",
    "import matplotlib.pyplot as plt\n",
    "import numpy as np\n",
    "import pandas as pd\n",
    "\n",
    "from network.ann import Network\n",
    "from network.activation_function import ActivationFunction, logsig, tansig\n",
    "import data.preprocessing as preprocess"
   ]
  },
  {
   "cell_type": "markdown",
   "metadata": {},
   "source": [
    "## Dataset\n",
    "MNIST dataset, with training and test datasets"
   ]
  },
  {
   "cell_type": "code",
   "execution_count": 2,
   "metadata": {
    "collapsed": false
   },
   "outputs": [],
   "source": [
    "# Training dataset \n",
    "df = pd.read_csv('data/mnist_train.csv', sep=',', header=None)\n",
    "data_train = np.array(df.values[:,1:], dtype=float)\n",
    "label_train = np.array(df.values[:,0])"
   ]
  },
  {
   "cell_type": "code",
   "execution_count": 3,
   "metadata": {
    "collapsed": false
   },
   "outputs": [],
   "source": [
    "# Test dataset \n",
    "df = pd.read_csv('data/mnist_test.csv', sep=',', header=None)\n",
    "data_test = np.array(df.values[:,1:], dtype=float)\n",
    "label_test = np.array(df.values[:,0])"
   ]
  },
  {
   "cell_type": "code",
   "execution_count": 4,
   "metadata": {
    "collapsed": false
   },
   "outputs": [],
   "source": [
    "# Define the labels in a vector form \n",
    "label_train_vector = preprocess.label_to_vector_form(label_train, 10)"
   ]
  },
  {
   "cell_type": "code",
   "execution_count": 5,
   "metadata": {
    "collapsed": false
   },
   "outputs": [],
   "source": [
    "# Normalization between 0 and 1\n",
    "data_train_norm = preprocess.norma_by_max(data_train)\n",
    "data_test_norm = preprocess.norma_by_max(data_test)"
   ]
  },
  {
   "cell_type": "markdown",
   "metadata": {},
   "source": [
    "## Creation of the neural network "
   ]
  },
  {
   "cell_type": "code",
   "execution_count": 11,
   "metadata": {
    "collapsed": false
   },
   "outputs": [],
   "source": [
    "mnist_network = Network([784, 20, 10])\n",
    "\n",
    "network.set_activation_fct(tansig, logsig)"
   ]
  },
  {
   "cell_type": "markdown",
   "metadata": {},
   "source": [
    "## Training phase of the neural network"
   ]
  },
  {
   "cell_type": "code",
   "execution_count": 12,
   "metadata": {
    "collapsed": true
   },
   "outputs": [],
   "source": [
    "# Parameters\n",
    "learning_rate = 0.01\n",
    "nb_epochs = 40"
   ]
  },
  {
   "cell_type": "code",
   "execution_count": 13,
   "metadata": {
    "collapsed": false
   },
   "outputs": [
    {
     "name": "stdout",
     "output_type": "stream",
     "text": [
      "Epoch 1: OK\n",
      "Epoch 2: OK\n",
      "Epoch 3: OK\n",
      "Epoch 4: OK\n",
      "Epoch 5: OK\n",
      "Epoch 6: OK\n",
      "Epoch 7: OK\n",
      "Epoch 8: OK\n",
      "Epoch 9: OK\n",
      "Epoch 10: OK\n",
      "Epoch 11: OK\n",
      "Epoch 12: OK\n",
      "Epoch 13: OK\n",
      "Epoch 14: OK\n",
      "Epoch 15: OK\n",
      "Epoch 16: OK\n",
      "Epoch 17: OK\n",
      "Epoch 18: OK\n",
      "Epoch 19: OK\n",
      "Epoch 20: OK\n",
      "Epoch 21: OK\n",
      "Epoch 22: OK\n",
      "Epoch 23: OK\n",
      "Epoch 24: OK\n",
      "Epoch 25: OK\n",
      "Epoch 26: OK\n",
      "Epoch 27: OK\n",
      "Epoch 28: OK\n",
      "Epoch 29: OK\n",
      "Epoch 30: OK\n",
      "Epoch 31: OK\n",
      "Epoch 32: OK\n",
      "Epoch 33: OK\n",
      "Epoch 34: OK\n",
      "Epoch 35: OK\n",
      "Epoch 36: OK\n",
      "Epoch 37: OK\n",
      "Epoch 38: OK\n",
      "Epoch 39: OK\n",
      "Epoch 40: OK\n"
     ]
    }
   ],
   "source": [
    "mnist_network.train(data_train_norm, label_train_vector, learning_rate, nb_epochs)"
   ]
  },
  {
   "cell_type": "code",
   "execution_count": 22,
   "metadata": {
    "collapsed": false
   },
   "outputs": [],
   "source": [
    "# Save the network object (serialization)\n",
    "import pickle\n",
    "with open('mnist_network', 'wb') as myfile:\n",
    "    pickler = pickle.Pickler(myfile)\n",
    "    pickler.dump(network)"
   ]
  },
  {
   "cell_type": "markdown",
   "metadata": {},
   "source": [
    "## Testing phase of the neural network"
   ]
  },
  {
   "cell_type": "code",
   "execution_count": 14,
   "metadata": {
    "collapsed": false,
    "scrolled": false
   },
   "outputs": [
    {
     "name": "stdout",
     "output_type": "stream",
     "text": [
      "Accuracy obtained: 0.9261\n"
     ]
    }
   ],
   "source": [
    "res = mnist_network.test(data_test_norm, label_test)"
   ]
  },
  {
   "cell_type": "markdown",
   "metadata": {},
   "source": [
    "## Example "
   ]
  },
  {
   "cell_type": "code",
   "execution_count": 15,
   "metadata": {
    "collapsed": false
   },
   "outputs": [
    {
     "data": {
      "text/plain": [
       "<matplotlib.image.AxesImage at 0xec426d8>"
      ]
     },
     "execution_count": 15,
     "metadata": {},
     "output_type": "execute_result"
    },
    {
     "data": {
      "image/png": "[encoded data removed]",
      "text/plain": [
       "<matplotlib.figure.Figure at 0x1973b7f0>"
      ]
     },
     "metadata": {},
     "output_type": "display_data"
    }
   ],
   "source": [
    "example = data_test[200,:].reshape([28,28])\n",
    "plt.imshow(example)"
   ]
  },
  {
   "cell_type": "code",
   "execution_count": 16,
   "metadata": {
    "collapsed": false
   },
   "outputs": [
    {
     "data": {
      "text/plain": [
       "3.0"
      ]
     },
     "execution_count": 16,
     "metadata": {},
     "output_type": "execute_result"
    }
   ],
   "source": [
    "res['prediction'][200]"
   ]
  },
  {
   "cell_type": "code",
   "execution_count": null,
   "metadata": {
    "collapsed": true
   },
   "outputs": [],
   "source": []
  }
 ],
 "metadata": {
  "kernelspec": {
   "display_name": "Python 2",
   "language": "python",
   "name": "python2"
  },
  "language_info": {
   "codemirror_mode": {
    "name": "ipython",
    "version": 2
   },
   "file_extension": ".py",
   "mimetype": "text/x-python",
   "name": "python",
   "nbconvert_exporter": "python",
   "pygments_lexer": "ipython2",
   "version": "2.7.12"
  }
 },
 "nbformat": 4,
 "nbformat_minor": 0
}
